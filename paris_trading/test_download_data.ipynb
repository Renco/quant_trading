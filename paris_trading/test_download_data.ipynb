{
 "cells": [
  {
   "cell_type": "code",
   "execution_count": 2,
   "metadata": {
    "collapsed": false
   },
   "outputs": [
    {
     "data": {
      "text/plain": [
       "<class 'pandas.core.panel.Panel'>\n",
       "Dimensions: 1000 (items) x 1595 (major_axis) x 6 (minor_axis)\n",
       "Items axis: 600004.SS to 603611.SS\n",
       "Major_axis axis: 2010-01-04 00:00:00+00:00 to 2016-03-10 00:00:00+00:00\n",
       "Minor_axis axis: open to price"
      ]
     },
     "execution_count": 2,
     "metadata": {},
     "output_type": "execute_result"
    }
   ],
   "source": [
    "%matplotlib inline\n",
    "\n",
    "import zipline\n",
    "import matplotlib\n",
    "from datetime import datetime\n",
    "import pytz\n",
    "from zipline.data.loader import load_bars_from_yahoo\n",
    "import matplotlib.pyplot as plt\n",
    "import pandas as pd\n",
    "import numpy as np\n",
    "import csv\n",
    "\n",
    "with open('C:\\Users\\zhonghao\\Desktop\\component\\list.csv', 'rb') as f:\n",
    "    reader = csv.reader(f)\n",
    "    your_list = list(reader)\n",
    "\n",
    "stock_list = []\n",
    "for x in your_list:\n",
    "    stock_list.append(x[0])\n",
    "    \n",
    "    \n",
    "#print your_list\n",
    "\n",
    "    \n",
    "\n",
    "start = datetime(2010, 1, 1, 0, 0, 0, 0, pytz.utc)\n",
    "end = datetime(2016, 3, 11, 0, 0, 0, 0, pytz.utc)\n",
    "\n",
    "    # Load price data from yahoo.\n",
    "    \n",
    "try:\n",
    "    data = load_bars_from_yahoo(stocks = stock_list[0:1000], indexes={}, start=start,\n",
    "                    end=end , adjusted=True)\n",
    "except Exception:\n",
    "    pass    \n",
    "    \n",
    "\n",
    "\n",
    "\n",
    "data[:  , :, :]\n",
    "#data[ : , :, u'price']\n"
   ]
  },
  {
   "cell_type": "code",
   "execution_count": 3,
   "metadata": {
    "collapsed": false
   },
   "outputs": [
    {
     "data": {
      "text/plain": [
       "1000"
      ]
     },
     "execution_count": 3,
     "metadata": {},
     "output_type": "execute_result"
    }
   ],
   "source": [
    "len(data[: , 0, 0])\n"
   ]
  },
  {
   "cell_type": "code",
   "execution_count": 4,
   "metadata": {
    "collapsed": false
   },
   "outputs": [
    {
     "name": "stdout",
     "output_type": "stream",
     "text": [
      "893\n",
      "19\n",
      "963\n",
      "51\n",
      "978\n",
      "19\n",
      "979\n",
      "65\n",
      "982\n",
      "55\n",
      "997\n",
      "16\n",
      "[893, 963, 978, 979, 982, 997]\n"
     ]
    }
   ],
   "source": [
    "i = 0\n",
    "a = []\n",
    "for x in data[ : , :, u'price'].count():\n",
    "    if x < 150:\n",
    "        a.append(i)\n",
    "        print i\n",
    "        print x\n",
    "    i += 1\n",
    "    \n",
    "print a\n",
    "\n",
    "cor = data[ : , : , u'price'].drop(data[ : , : , u'price'].axes[1][a], \n",
    "                             axis=1, level=None, inplace=False, errors='raise').corr()\n",
    "\n",
    "\n"
   ]
  },
  {
   "cell_type": "code",
   "execution_count": 6,
   "metadata": {
    "collapsed": false
   },
   "outputs": [
    {
     "data": {
      "text/plain": [
       "601666.SS  600535.SS   -0.849627\n",
       "600535.SS  601666.SS   -0.849627\n",
       "600997.SS  600535.SS   -0.839830\n",
       "600535.SS  600997.SS   -0.839830\n",
       "600779.SS  600557.SS   -0.832445\n",
       "600557.SS  600779.SS   -0.832445\n",
       "600535.SS  600779.SS   -0.819542\n",
       "600779.SS  600535.SS   -0.819542\n",
       "600508.SS  600535.SS   -0.819090\n",
       "600535.SS  600508.SS   -0.819090\n",
       "600779.SS  600389.SS   -0.817637\n",
       "600389.SS  600779.SS   -0.817637\n",
       "600535.SS  600123.SS   -0.816169\n",
       "600123.SS  600535.SS   -0.816169\n",
       "           600557.SS   -0.808878\n",
       "600557.SS  600123.SS   -0.808878\n",
       "600844.SS  600535.SS   -0.807395\n",
       "600535.SS  600844.SS   -0.807395\n",
       "           601001.SS   -0.806124\n",
       "601001.SS  600535.SS   -0.806124\n",
       "600587.SS  600779.SS   -0.802109\n",
       "600779.SS  600587.SS   -0.802109\n",
       "600535.SS  600546.SS   -0.800799\n",
       "600546.SS  600535.SS   -0.800799\n",
       "600597.SS  600779.SS   -0.799540\n",
       "600779.SS  600597.SS   -0.799540\n",
       "           600566.SS   -0.798536\n",
       "600566.SS  600779.SS   -0.798536\n",
       "600123.SS  600389.SS   -0.785642\n",
       "600389.SS  600123.SS   -0.785642\n",
       "                          ...   \n",
       "601390.SS  601669.SS    0.980294\n",
       "601669.SS  601390.SS    0.980294\n",
       "           601727.SS    0.981027\n",
       "601727.SS  601669.SS    0.981027\n",
       "600999.SS  601688.SS    0.981115\n",
       "601688.SS  600999.SS    0.981115\n",
       "600011.SS  600027.SS    0.981529\n",
       "600027.SS  600011.SS    0.981529\n",
       "601688.SS  601377.SS    0.981563\n",
       "601377.SS  601688.SS    0.981563\n",
       "601668.SS  601186.SS    0.981612\n",
       "601186.SS  601668.SS    0.981612\n",
       "601939.SS  601288.SS    0.982151\n",
       "601288.SS  601939.SS    0.982151\n",
       "601555.SS  601099.SS    0.982527\n",
       "601099.SS  601555.SS    0.982527\n",
       "601398.SS  601939.SS    0.982673\n",
       "601939.SS  601398.SS    0.982673\n",
       "601688.SS  601555.SS    0.982919\n",
       "601555.SS  601688.SS    0.982919\n",
       "           600999.SS    0.983531\n",
       "600999.SS  601555.SS    0.983531\n",
       "601668.SS  601800.SS    0.984098\n",
       "601800.SS  601668.SS    0.984098\n",
       "601390.SS  601186.SS    0.986997\n",
       "601186.SS  601390.SS    0.986997\n",
       "601377.SS  601555.SS    0.987511\n",
       "601555.SS  601377.SS    0.987511\n",
       "601800.SS  601186.SS    0.988546\n",
       "601186.SS  601800.SS    0.988546\n",
       "dtype: float64"
      ]
     },
     "execution_count": 6,
     "metadata": {},
     "output_type": "execute_result"
    }
   ],
   "source": [
    "cor.values[[np.arange(len(cor))]*2] = 0.0\n",
    "\n",
    "\n",
    "\n",
    "so = cor.unstack().order(kind=\"quicksort\")\n",
    "\n",
    "so\n",
    "\n",
    "\n"
   ]
  },
  {
   "cell_type": "code",
   "execution_count": 189,
   "metadata": {
    "collapsed": false
   },
   "outputs": [
    {
     "data": {
      "text/html": [
       "<div style=\"max-height:1000px;max-width:1500px;overflow:auto;\">\n",
       "<table border=\"1\" class=\"dataframe\">\n",
       "  <thead>\n",
       "    <tr style=\"text-align: right;\">\n",
       "      <th></th>\n",
       "      <th>AAPL</th>\n",
       "      <th>GOOG</th>\n",
       "    </tr>\n",
       "  </thead>\n",
       "  <tbody>\n",
       "    <tr>\n",
       "      <th>AAPL</th>\n",
       "      <td>1.000000</td>\n",
       "      <td>-0.060159</td>\n",
       "    </tr>\n",
       "    <tr>\n",
       "      <th>GOOG</th>\n",
       "      <td>-0.060159</td>\n",
       "      <td>1.000000</td>\n",
       "    </tr>\n",
       "  </tbody>\n",
       "</table>\n",
       "</div>"
      ],
      "text/plain": [
       "          AAPL      GOOG\n",
       "AAPL  1.000000 -0.060159\n",
       "GOOG -0.060159  1.000000"
      ]
     },
     "execution_count": 189,
     "metadata": {},
     "output_type": "execute_result"
    }
   ],
   "source": [
    "data[ : , :, u'price'].corr()"
   ]
  },
  {
   "cell_type": "code",
   "execution_count": 5,
   "metadata": {
    "collapsed": false
   },
   "outputs": [
    {
     "data": {
      "text/plain": [
       "[Index([u'600005.SS', u'600006.SS', u'600007.SS', u'600008.SS', u'600009.SS',\n",
       "        u'600010.SS', u'600011.SS', u'600012.SS', u'600015.SS', u'600016.SS', \n",
       "        ...\n",
       "        u'600598.SS', u'600599.SS', u'600600.SS', u'600601.SS', u'600602.SS',\n",
       "        u'600603.SS', u'600604.SS', u'600605.SS', u'600606.SS', u'600608.SS'],\n",
       "       dtype='object', length=499),\n",
       " DatetimeIndex(['2014-01-01', '2014-01-02', '2014-01-03', '2014-01-06',\n",
       "                '2014-01-07', '2014-01-08', '2014-01-09', '2014-01-10',\n",
       "                '2014-01-13', '2014-01-14', \n",
       "                ...\n",
       "                '2014-10-20', '2014-10-21', '2014-10-22', '2014-10-23',\n",
       "                '2014-10-24', '2014-10-27', '2014-10-28', '2014-10-29',\n",
       "                '2014-10-30', '2014-10-31'],\n",
       "               dtype='datetime64[ns]', name=u'Date', length=217, freq=None, tz='UTC'),\n",
       " Index([u'open', u'high', u'low', u'close', u'volume', u'price'], dtype='object')]"
      ]
     },
     "execution_count": 5,
     "metadata": {},
     "output_type": "execute_result"
    }
   ],
   "source": [
    "data.axes"
   ]
  },
  {
   "cell_type": "code",
   "execution_count": null,
   "metadata": {
    "collapsed": true
   },
   "outputs": [],
   "source": []
  }
 ],
 "metadata": {
  "kernelspec": {
   "display_name": "Python 2",
   "language": "python",
   "name": "python2"
  },
  "language_info": {
   "codemirror_mode": {
    "name": "ipython",
    "version": 2
   },
   "file_extension": ".py",
   "mimetype": "text/x-python",
   "name": "python",
   "nbconvert_exporter": "python",
   "pygments_lexer": "ipython2",
   "version": "2.7.10"
  }
 },
 "nbformat": 4,
 "nbformat_minor": 0
}
