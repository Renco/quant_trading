{
 "cells": [
  {
   "cell_type": "code",
   "execution_count": 33,
   "metadata": {
    "collapsed": false
   },
   "outputs": [
    {
     "data": {
      "text/plain": [
       "<class 'pandas.core.panel.Panel'>\n",
       "Dimensions: 1000 (items) x 571 (major_axis) x 6 (minor_axis)\n",
       "Items axis: 600004.SS to 603611.SS\n",
       "Major_axis axis: 2014-01-01 00:00:00+00:00 to 2016-03-10 00:00:00+00:00\n",
       "Minor_axis axis: open to price"
      ]
     },
     "execution_count": 33,
     "metadata": {},
     "output_type": "execute_result"
    }
   ],
   "source": [
    "%matplotlib inline\n",
    "import zipline\n",
    "import matplotlib\n",
    "from datetime import datetime\n",
    "import pytz\n",
    "from zipline.data.loader import load_bars_from_yahoo\n",
    "import matplotlib.pyplot as plt\n",
    "import pandas as pd\n",
    "import numpy as np\n",
    "import csv\n",
    "\n",
    "with open('C:\\Users\\zhonghao\\Desktop\\component\\list.csv', 'rb') as f:\n",
    "    reader = csv.reader(f)\n",
    "    your_list = list(reader)\n",
    "\n",
    "stock_list = []\n",
    "for x in your_list:\n",
    "    stock_list.append(x[0])\n",
    "    \n",
    "    \n",
    "#print your_list\n",
    "\n",
    "    \n",
    "\n",
    "start = datetime(2014, 1, 1, 0, 0, 0, 0, pytz.utc)\n",
    "end = datetime(2016, 3, 11, 0, 0, 0, 0, pytz.utc)\n",
    "\n",
    "    # Load price data from yahoo.\n",
    "    \n",
    "try:\n",
    "    data = load_bars_from_yahoo(stocks = stock_list[0:1000], indexes={}, start=start,\n",
    "                    end=end , adjusted=True)\n",
    "except Exception:\n",
    "    pass    \n",
    "    \n",
    "\n",
    "\n",
    "\n",
    "data[:  , :, :]\n",
    "#data[ : , :, u'price']\n"
   ]
  },
  {
   "cell_type": "code",
   "execution_count": 34,
   "metadata": {
    "collapsed": false
   },
   "outputs": [
    {
     "data": {
      "text/plain": [
       "1000"
      ]
     },
     "execution_count": 34,
     "metadata": {},
     "output_type": "execute_result"
    }
   ],
   "source": [
    "len(data[: , 0, 0])\n"
   ]
  },
  {
   "cell_type": "code",
   "execution_count": null,
   "metadata": {
    "collapsed": false
   },
   "outputs": [],
   "source": [
    "i = 0\n",
    "a = []\n",
    "for x in data[ : , :, u'price'].count():\n",
    "    if x < 150:\n",
    "        a.append(i)\n",
    "        print i\n",
    "        print x\n",
    "    i += 1\n",
    "    \n",
    "print a\n",
    "\n",
    "cor = data[ : , : , u'price'].drop(data[ : , : , u'price'].axes[1][a], \n",
    "                             axis=1, level=None, inplace=False, errors='raise').corr()\n",
    "\n",
    "\n"
   ]
  },
  {
   "cell_type": "code",
   "execution_count": null,
   "metadata": {
    "collapsed": false
   },
   "outputs": [],
   "source": [
    "'''cor.values[[np.arange(len(cor))]*2] = 0.0\n",
    "\n",
    "cor '''\n",
    "\n",
    "so = cor.unstack().order(kind=\"quicksort\")\n",
    "\n",
    "so\n",
    "\n",
    "\n"
   ]
  },
  {
   "cell_type": "code",
   "execution_count": 189,
   "metadata": {
    "collapsed": false
   },
   "outputs": [
    {
     "data": {
      "text/html": [
       "<div style=\"max-height:1000px;max-width:1500px;overflow:auto;\">\n",
       "<table border=\"1\" class=\"dataframe\">\n",
       "  <thead>\n",
       "    <tr style=\"text-align: right;\">\n",
       "      <th></th>\n",
       "      <th>AAPL</th>\n",
       "      <th>GOOG</th>\n",
       "    </tr>\n",
       "  </thead>\n",
       "  <tbody>\n",
       "    <tr>\n",
       "      <th>AAPL</th>\n",
       "      <td>1.000000</td>\n",
       "      <td>-0.060159</td>\n",
       "    </tr>\n",
       "    <tr>\n",
       "      <th>GOOG</th>\n",
       "      <td>-0.060159</td>\n",
       "      <td>1.000000</td>\n",
       "    </tr>\n",
       "  </tbody>\n",
       "</table>\n",
       "</div>"
      ],
      "text/plain": [
       "          AAPL      GOOG\n",
       "AAPL  1.000000 -0.060159\n",
       "GOOG -0.060159  1.000000"
      ]
     },
     "execution_count": 189,
     "metadata": {},
     "output_type": "execute_result"
    }
   ],
   "source": [
    "data[ : , :, u'price'].corr()"
   ]
  },
  {
   "cell_type": "code",
   "execution_count": 5,
   "metadata": {
    "collapsed": false
   },
   "outputs": [
    {
     "data": {
      "text/plain": [
       "[Index([u'600005.SS', u'600006.SS', u'600007.SS', u'600008.SS', u'600009.SS',\n",
       "        u'600010.SS', u'600011.SS', u'600012.SS', u'600015.SS', u'600016.SS', \n",
       "        ...\n",
       "        u'600598.SS', u'600599.SS', u'600600.SS', u'600601.SS', u'600602.SS',\n",
       "        u'600603.SS', u'600604.SS', u'600605.SS', u'600606.SS', u'600608.SS'],\n",
       "       dtype='object', length=499),\n",
       " DatetimeIndex(['2014-01-01', '2014-01-02', '2014-01-03', '2014-01-06',\n",
       "                '2014-01-07', '2014-01-08', '2014-01-09', '2014-01-10',\n",
       "                '2014-01-13', '2014-01-14', \n",
       "                ...\n",
       "                '2014-10-20', '2014-10-21', '2014-10-22', '2014-10-23',\n",
       "                '2014-10-24', '2014-10-27', '2014-10-28', '2014-10-29',\n",
       "                '2014-10-30', '2014-10-31'],\n",
       "               dtype='datetime64[ns]', name=u'Date', length=217, freq=None, tz='UTC'),\n",
       " Index([u'open', u'high', u'low', u'close', u'volume', u'price'], dtype='object')]"
      ]
     },
     "execution_count": 5,
     "metadata": {},
     "output_type": "execute_result"
    }
   ],
   "source": [
    "data.axes"
   ]
  },
  {
   "cell_type": "code",
   "execution_count": null,
   "metadata": {
    "collapsed": true
   },
   "outputs": [],
   "source": []
  }
 ],
 "metadata": {
  "kernelspec": {
   "display_name": "Python 2",
   "language": "python",
   "name": "python2"
  },
  "language_info": {
   "codemirror_mode": {
    "name": "ipython",
    "version": 2
   },
   "file_extension": ".py",
   "mimetype": "text/x-python",
   "name": "python",
   "nbconvert_exporter": "python",
   "pygments_lexer": "ipython2",
   "version": "2.7.10"
  }
 },
 "nbformat": 4,
 "nbformat_minor": 0
}
